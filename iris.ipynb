{
 "cells": [
  {
   "cell_type": "markdown",
   "metadata": {},
   "source": [
    "# Introduction\n",
    "\n",
    "#### In this Jupyter Notebook, I will be analysing the Iris dataset using various Python methods.\n",
    "#### The following are tasks that I will complete in my analysis:\n",
    "1. Import Libraries\n",
    "2. Load the Dataset\n",
    "    - I will load the Iris dataset using Pandas. \n",
    "3. Describe the Dataset\n",
    "    - I will describe the Iris dataset and identify the feature names and species names.\n",
    "4. Summarise the Features\n",
    "    - I will write a script that outputs the summary of each variable into a single text file.\n",
    "5. Explore the Dataset\n",
    "\n",
    "        a. I will create a histogram for each feature. \n",
    "    \n",
    "        b. I will create a boxplot for each feature. \n",
    "    \n",
    "        c. I will create a scatterplot for each pair of features. \n",
    "    \n",
    "        d. I will create a heatmap to display mean feature value per species. \n",
    "\n",
    "        e. I will create a pairplot to display the relationship between all features with one another."
   ]
  },
  {
   "cell_type": "markdown",
   "metadata": {},
   "source": [
    "# 1. Import Libraries"
   ]
  },
  {
   "cell_type": "code",
   "execution_count": 1,
   "metadata": {},
   "outputs": [],
   "source": [
    "# Dataframes\n",
    "import pandas as pd\n",
    "\n",
    "# Numpy\n",
    "import numpy as np\n",
    "\n",
    "# ScikitLearn: Machine Learning repository that contains sample datasets\n",
    "import sklearn as skl \n",
    "from sklearn import datasets\n",
    "\n",
    "# Plots\n",
    "import matplotlib\n",
    "from matplotlib import pyplot as plt"
   ]
  },
  {
   "cell_type": "markdown",
   "metadata": {},
   "source": [
    "# 2. Load the Dataset\n",
    "\n",
    "#### I downloaded the Iris dataset from the UC Irvine Machine Learning Repository \n",
    "###### (See: https://archive.ics.uci.edu/dataset/53/iris).\n",
    "#### I added the dataset (iris.csv) to my repository (zoeharlowe/pands-project).\n",
    "#### I researched the Pandas pd.read_csv() documentation to find out how to set column names \n",
    "###### (See: https://pandas.pydata.org/pandas-docs/stable/reference/api/pandas.read_csv.html)."
   ]
  },
  {
   "cell_type": "code",
   "execution_count": 2,
   "metadata": {},
   "outputs": [
    {
     "data": {
      "text/html": [
       "<div>\n",
       "<style scoped>\n",
       "    .dataframe tbody tr th:only-of-type {\n",
       "        vertical-align: middle;\n",
       "    }\n",
       "\n",
       "    .dataframe tbody tr th {\n",
       "        vertical-align: top;\n",
       "    }\n",
       "\n",
       "    .dataframe thead th {\n",
       "        text-align: right;\n",
       "    }\n",
       "</style>\n",
       "<table border=\"1\" class=\"dataframe\">\n",
       "  <thead>\n",
       "    <tr style=\"text-align: right;\">\n",
       "      <th></th>\n",
       "      <th>sepal_length</th>\n",
       "      <th>sepal_width</th>\n",
       "      <th>petal_length</th>\n",
       "      <th>petal_width</th>\n",
       "      <th>species</th>\n",
       "    </tr>\n",
       "  </thead>\n",
       "  <tbody>\n",
       "    <tr>\n",
       "      <th>0</th>\n",
       "      <td>5.1</td>\n",
       "      <td>3.5</td>\n",
       "      <td>1.4</td>\n",
       "      <td>0.2</td>\n",
       "      <td>Iris-setosa</td>\n",
       "    </tr>\n",
       "    <tr>\n",
       "      <th>1</th>\n",
       "      <td>4.9</td>\n",
       "      <td>3.0</td>\n",
       "      <td>1.4</td>\n",
       "      <td>0.2</td>\n",
       "      <td>Iris-setosa</td>\n",
       "    </tr>\n",
       "    <tr>\n",
       "      <th>2</th>\n",
       "      <td>4.7</td>\n",
       "      <td>3.2</td>\n",
       "      <td>1.3</td>\n",
       "      <td>0.2</td>\n",
       "      <td>Iris-setosa</td>\n",
       "    </tr>\n",
       "    <tr>\n",
       "      <th>3</th>\n",
       "      <td>4.6</td>\n",
       "      <td>3.1</td>\n",
       "      <td>1.5</td>\n",
       "      <td>0.2</td>\n",
       "      <td>Iris-setosa</td>\n",
       "    </tr>\n",
       "    <tr>\n",
       "      <th>4</th>\n",
       "      <td>5.0</td>\n",
       "      <td>3.6</td>\n",
       "      <td>1.4</td>\n",
       "      <td>0.2</td>\n",
       "      <td>Iris-setosa</td>\n",
       "    </tr>\n",
       "  </tbody>\n",
       "</table>\n",
       "</div>"
      ],
      "text/plain": [
       "   sepal_length  sepal_width  petal_length  petal_width      species\n",
       "0           5.1          3.5           1.4          0.2  Iris-setosa\n",
       "1           4.9          3.0           1.4          0.2  Iris-setosa\n",
       "2           4.7          3.2           1.3          0.2  Iris-setosa\n",
       "3           4.6          3.1           1.5          0.2  Iris-setosa\n",
       "4           5.0          3.6           1.4          0.2  Iris-setosa"
      ]
     },
     "execution_count": 2,
     "metadata": {},
     "output_type": "execute_result"
    }
   ],
   "source": [
    "# Set column names\n",
    "column_names = ['sepal_length', 'sepal_width', 'petal_length', 'petal_width', 'species']\n",
    "\n",
    "# Read in the dataset \n",
    "df = pd.read_csv(\"iris.csv\", names = column_names)\n",
    "\n",
    "# Display first 5 rows of the dataset\n",
    "df.head(5)\n"
   ]
  },
  {
   "cell_type": "markdown",
   "metadata": {},
   "source": [
    "#### I also displayed the last 5 rows of the dataset.\n",
    "\n",
    "###### (See GeeksForGeeks article on df.head() and df.tail() function: https://www.geeksforgeeks.org/difference-between-pandas-head-tail-and-sample/)"
   ]
  },
  {
   "cell_type": "code",
   "execution_count": 3,
   "metadata": {},
   "outputs": [
    {
     "data": {
      "text/html": [
       "<div>\n",
       "<style scoped>\n",
       "    .dataframe tbody tr th:only-of-type {\n",
       "        vertical-align: middle;\n",
       "    }\n",
       "\n",
       "    .dataframe tbody tr th {\n",
       "        vertical-align: top;\n",
       "    }\n",
       "\n",
       "    .dataframe thead th {\n",
       "        text-align: right;\n",
       "    }\n",
       "</style>\n",
       "<table border=\"1\" class=\"dataframe\">\n",
       "  <thead>\n",
       "    <tr style=\"text-align: right;\">\n",
       "      <th></th>\n",
       "      <th>sepal_length</th>\n",
       "      <th>sepal_width</th>\n",
       "      <th>petal_length</th>\n",
       "      <th>petal_width</th>\n",
       "      <th>species</th>\n",
       "    </tr>\n",
       "  </thead>\n",
       "  <tbody>\n",
       "    <tr>\n",
       "      <th>145</th>\n",
       "      <td>6.7</td>\n",
       "      <td>3.0</td>\n",
       "      <td>5.2</td>\n",
       "      <td>2.3</td>\n",
       "      <td>Iris-virginica</td>\n",
       "    </tr>\n",
       "    <tr>\n",
       "      <th>146</th>\n",
       "      <td>6.3</td>\n",
       "      <td>2.5</td>\n",
       "      <td>5.0</td>\n",
       "      <td>1.9</td>\n",
       "      <td>Iris-virginica</td>\n",
       "    </tr>\n",
       "    <tr>\n",
       "      <th>147</th>\n",
       "      <td>6.5</td>\n",
       "      <td>3.0</td>\n",
       "      <td>5.2</td>\n",
       "      <td>2.0</td>\n",
       "      <td>Iris-virginica</td>\n",
       "    </tr>\n",
       "    <tr>\n",
       "      <th>148</th>\n",
       "      <td>6.2</td>\n",
       "      <td>3.4</td>\n",
       "      <td>5.4</td>\n",
       "      <td>2.3</td>\n",
       "      <td>Iris-virginica</td>\n",
       "    </tr>\n",
       "    <tr>\n",
       "      <th>149</th>\n",
       "      <td>5.9</td>\n",
       "      <td>3.0</td>\n",
       "      <td>5.1</td>\n",
       "      <td>1.8</td>\n",
       "      <td>Iris-virginica</td>\n",
       "    </tr>\n",
       "  </tbody>\n",
       "</table>\n",
       "</div>"
      ],
      "text/plain": [
       "     sepal_length  sepal_width  petal_length  petal_width         species\n",
       "145           6.7          3.0           5.2          2.3  Iris-virginica\n",
       "146           6.3          2.5           5.0          1.9  Iris-virginica\n",
       "147           6.5          3.0           5.2          2.0  Iris-virginica\n",
       "148           6.2          3.4           5.4          2.3  Iris-virginica\n",
       "149           5.9          3.0           5.1          1.8  Iris-virginica"
      ]
     },
     "execution_count": 3,
     "metadata": {},
     "output_type": "execute_result"
    }
   ],
   "source": [
    "# Display the last 5 rows of the dataset\n",
    "df.tail(5)"
   ]
  },
  {
   "cell_type": "markdown",
   "metadata": {},
   "source": [
    "# 3. Describe the Dataset"
   ]
  },
  {
   "cell_type": "markdown",
   "metadata": {},
   "source": [
    "#### I identified the feature names.\n",
    "\n",
    "###### (See: https://pandas.pydata.org/docs/reference/api/pandas.DataFrame.columns.html#pandas.DataFrame.columns) \n",
    "###### Microsoft Copilot autocompleted this code for me as I wasn't previously aware of the .values method"
   ]
  },
  {
   "cell_type": "code",
   "execution_count": 4,
   "metadata": {},
   "outputs": [
    {
     "name": "stdout",
     "output_type": "stream",
     "text": [
      "['sepal_length' 'sepal_width' 'petal_length' 'petal_width' 'species']\n"
     ]
    }
   ],
   "source": [
    "# Display feature names\n",
    "column_names = df.columns.values\n",
    "print(column_names)"
   ]
  },
  {
   "cell_type": "markdown",
   "metadata": {},
   "source": [
    "#### I identified the three class types using the np.unique() function \n",
    "###### (See: https://numpy.org/doc/stable/reference/generated/numpy.unique.html)"
   ]
  },
  {
   "cell_type": "code",
   "execution_count": 5,
   "metadata": {},
   "outputs": [
    {
     "name": "stdout",
     "output_type": "stream",
     "text": [
      "['Iris-setosa' 'Iris-versicolor' 'Iris-virginica']\n"
     ]
    }
   ],
   "source": [
    "# Find unique values in the species column.\n",
    "unique_values = np.unique(df[\"species\"])\n",
    "\n",
    "print(unique_values)"
   ]
  },
  {
   "cell_type": "markdown",
   "metadata": {},
   "source": [
    "#### I used the describe() function to find the count, mean, std, max, min, and first and third interquartiles of the dataset for each feature.\n",
    "###### (See: https://pandas.pydata.org/pandas-docs/stable/reference/api/pandas.DataFrame.describe.html)"
   ]
  },
  {
   "cell_type": "code",
   "execution_count": 6,
   "metadata": {},
   "outputs": [
    {
     "data": {
      "text/html": [
       "<div>\n",
       "<style scoped>\n",
       "    .dataframe tbody tr th:only-of-type {\n",
       "        vertical-align: middle;\n",
       "    }\n",
       "\n",
       "    .dataframe tbody tr th {\n",
       "        vertical-align: top;\n",
       "    }\n",
       "\n",
       "    .dataframe thead th {\n",
       "        text-align: right;\n",
       "    }\n",
       "</style>\n",
       "<table border=\"1\" class=\"dataframe\">\n",
       "  <thead>\n",
       "    <tr style=\"text-align: right;\">\n",
       "      <th></th>\n",
       "      <th>sepal_length</th>\n",
       "      <th>sepal_width</th>\n",
       "      <th>petal_length</th>\n",
       "      <th>petal_width</th>\n",
       "    </tr>\n",
       "  </thead>\n",
       "  <tbody>\n",
       "    <tr>\n",
       "      <th>count</th>\n",
       "      <td>150.000000</td>\n",
       "      <td>150.000000</td>\n",
       "      <td>150.000000</td>\n",
       "      <td>150.000000</td>\n",
       "    </tr>\n",
       "    <tr>\n",
       "      <th>mean</th>\n",
       "      <td>5.843333</td>\n",
       "      <td>3.054000</td>\n",
       "      <td>3.758667</td>\n",
       "      <td>1.198667</td>\n",
       "    </tr>\n",
       "    <tr>\n",
       "      <th>std</th>\n",
       "      <td>0.828066</td>\n",
       "      <td>0.433594</td>\n",
       "      <td>1.764420</td>\n",
       "      <td>0.763161</td>\n",
       "    </tr>\n",
       "    <tr>\n",
       "      <th>min</th>\n",
       "      <td>4.300000</td>\n",
       "      <td>2.000000</td>\n",
       "      <td>1.000000</td>\n",
       "      <td>0.100000</td>\n",
       "    </tr>\n",
       "    <tr>\n",
       "      <th>25%</th>\n",
       "      <td>5.100000</td>\n",
       "      <td>2.800000</td>\n",
       "      <td>1.600000</td>\n",
       "      <td>0.300000</td>\n",
       "    </tr>\n",
       "    <tr>\n",
       "      <th>50%</th>\n",
       "      <td>5.800000</td>\n",
       "      <td>3.000000</td>\n",
       "      <td>4.350000</td>\n",
       "      <td>1.300000</td>\n",
       "    </tr>\n",
       "    <tr>\n",
       "      <th>75%</th>\n",
       "      <td>6.400000</td>\n",
       "      <td>3.300000</td>\n",
       "      <td>5.100000</td>\n",
       "      <td>1.800000</td>\n",
       "    </tr>\n",
       "    <tr>\n",
       "      <th>max</th>\n",
       "      <td>7.900000</td>\n",
       "      <td>4.400000</td>\n",
       "      <td>6.900000</td>\n",
       "      <td>2.500000</td>\n",
       "    </tr>\n",
       "  </tbody>\n",
       "</table>\n",
       "</div>"
      ],
      "text/plain": [
       "       sepal_length  sepal_width  petal_length  petal_width\n",
       "count    150.000000   150.000000    150.000000   150.000000\n",
       "mean       5.843333     3.054000      3.758667     1.198667\n",
       "std        0.828066     0.433594      1.764420     0.763161\n",
       "min        4.300000     2.000000      1.000000     0.100000\n",
       "25%        5.100000     2.800000      1.600000     0.300000\n",
       "50%        5.800000     3.000000      4.350000     1.300000\n",
       "75%        6.400000     3.300000      5.100000     1.800000\n",
       "max        7.900000     4.400000      6.900000     2.500000"
      ]
     },
     "execution_count": 6,
     "metadata": {},
     "output_type": "execute_result"
    }
   ],
   "source": [
    "df.describe()"
   ]
  },
  {
   "cell_type": "markdown",
   "metadata": {},
   "source": [
    "# 4. Summarise the Dataset\n",
    "\n",
    "#### I created a text file (summary.txt) and used a for loop to write information about each feature into the text file.\n",
    "\n",
    "#### I used this article on GeeksForGeeks to help me create the text file: https://www.geeksforgeeks.org/create-a-new-text-file-in-python/\n",
    "\n",
    "#### Below you can see that I made a lambda function to find the number of features. I did this with the help of ChatGPT (See: https://chatgpt.com/share/68023853-726c-8000-901f-72d720dfc9bf)"
   ]
  },
  {
   "cell_type": "code",
   "execution_count": 7,
   "metadata": {},
   "outputs": [],
   "source": [
    "# Create file\n",
    "FILENAME = \"summary.txt\"\n",
    "\n",
    "with open(FILENAME, 'w') as f:\n",
    "\n",
    "    # Title\n",
    "    f.write(\"Iris Dataset Summary\\n\")\n",
    "    f.write(\"====================================\\n\\n\")\n",
    "\n",
    "    # Overall summary\n",
    "    f.write(\"OVERALL SUMMARY\\n\")\n",
    "    f.write(f\"Shape of dataset: \\t {df.shape} \\n\") # shape\n",
    "    f.write(f\"Number of species: \\t {len(unique_values)} \\n\") # number of species\n",
    "\n",
    "    # Number of features - I created a lambda function to count the number of features in each row\n",
    "    float_count = df.apply(lambda row: sum(isinstance(x, float) for x in row), axis=1).iloc[0]\n",
    "    f.write(f\"Number of features:  {float_count} \\n\") # number of features\n",
    "    \n",
    "    f.write(f\"Species names:\\t\\t {unique_values} \\n\") # species names\n",
    "    f.write(f\"Feature names:\\t\\t {column_names} \\n\") # variable names"
   ]
  },
  {
   "cell_type": "markdown",
   "metadata": {},
   "source": [
    "#### Now that I have a general summary of the dataset, I want to talk about the variables in this dataset and give a summary of each one.\n",
    "\n",
    "#### I used the df.describe() function again, converting the Panda series to a string using .to_string(). I used ChatGPT to help me with this and to explain to me that f.write only works with strings\n",
    "###### (See: https://chatgpt.com/share/680b7005-0a00-8000-b664-43050f0d49e8)"
   ]
  },
  {
   "cell_type": "code",
   "execution_count": 8,
   "metadata": {},
   "outputs": [],
   "source": [
    "# Setosa summary\n",
    "# Open file in append mode to avoid overwriting the previous content\n",
    "SUMMARY_FILE = \"summary.txt\"\n",
    "with open(SUMMARY_FILE, 'a') as f:\n",
    "    # Sepal length\n",
    "    f.write(\"\\nSEPAL LENGTH SUMMARY\\n\")\n",
    "    f.write(df[\"sepal_length\"].describe().to_string() + \"\\n\")\n",
    "\n",
    "    # Sepal width\n",
    "    f.write(\"\\nSEPAL WIDTH SUMMARY\\n\")\n",
    "    f.write(df[\"sepal_width\"].describe().to_string() + \"\\n\")\n",
    "\n",
    "    # Petal length\n",
    "    f.write(\"\\nPETAL LENGTH SUMMARY\\n\")\n",
    "    f.write(df[\"petal_length\"].describe().to_string() + \"\\n\")\n",
    "\n",
    "    # Petal width\n",
    "    f.write(\"\\nPETAL WIDTH SUMMARY\\n\")\n",
    "    f.write(df[\"petal_width\"].describe().to_string() + \"\\n\")\n",
    "\n",
    "    # Species\n",
    "    f.write(\"\\nSPECIES SUMMARY\\n\")\n",
    "    f.write(df[\"species\"].describe().to_string() + \"\\n\")"
   ]
  },
  {
   "cell_type": "markdown",
   "metadata": {},
   "source": [
    "# 5. Explore the Dataset\n",
    "\n",
    "#### I will now create various plots to analyse and explore this dataset. \n",
    "#### Before I do so, I used Numpy to create arrays to make it easier for me to plot each feature.\n",
    "###### (See: https://pandas.pydata.org/docs/reference/api/pandas.DataFrame.to_numpy.html)"
   ]
  },
  {
   "cell_type": "code",
   "execution_count": 19,
   "metadata": {},
   "outputs": [],
   "source": [
    "# Sepal width\n",
    "sepal_width = df[\"sepal_width\"]\n",
    "sepal_width = sepal_width.to_numpy()\n",
    "\n",
    "# Sepal length\n",
    "sepal_length = df[\"sepal_length\"]\n",
    "sepal_length = sepal_length.to_numpy()\n",
    "\n",
    "# Petal width\n",
    "petal_width = df[\"petal_width\"]\n",
    "petal_width = petal_width.to_numpy()\n",
    "\n",
    "# Petal length\n",
    "petal_length = df[\"petal_length\"]\n",
    "petal_length = petal_length.to_numpy()\n",
    "\n",
    "# Species\n",
    "species = df[\"species\"]\n",
    "species = species.to_numpy()"
   ]
  },
  {
   "cell_type": "markdown",
   "metadata": {},
   "source": [
    "\n",
    "## a. Histogram\n",
    "#### Using the Matplotlib plt.hist() function, I plotted five histograms - one for each feature/variable.\n",
    "\n",
    "###### (See: https://matplotlib.org/stable/api/_as_gen/matplotlib.pyplot.hist.html)"
   ]
  },
  {
   "cell_type": "markdown",
   "metadata": {},
   "source": [
    "### **Histogram displaying Sepal Width:**"
   ]
  },
  {
   "cell_type": "code",
   "execution_count": 16,
   "metadata": {},
   "outputs": [
    {
     "data": {
      "image/png": "[encoded data removed]",
      "text/plain": [
       "<Figure size 640x480 with 1 Axes>"
      ]
     },
     "metadata": {},
     "output_type": "display_data"
    },
    {
     "data": {
      "text/plain": [
       "<Figure size 640x480 with 0 Axes>"
      ]
     },
     "metadata": {},
     "output_type": "display_data"
    }
   ],
   "source": [
    "# Histogram of sepal width with set colour customisation and bin width\n",
    "plt.hist(sepal_width, bins=10, color='blue', edgecolor='black')\n",
    "\n",
    "# Add axis labels\n",
    "plt.xlabel('Sepal Width (cm)')\n",
    "plt.ylabel('Frequency')\n",
    "\n",
    "# Add title\n",
    "plt.title('Sepal Width Distribution')\n",
    "\n",
    "# Show\n",
    "plt.show()\n",
    "\n",
    "# Save the histogram to a file\n",
    "plt.savefig(\"sepal_width_histogram.png\")"
   ]
  },
  {
   "cell_type": "markdown",
   "metadata": {},
   "source": [
    "### **Histogram displaying Sepal Length:**"
   ]
  },
  {
   "cell_type": "code",
   "execution_count": 20,
   "metadata": {},
   "outputs": [
    {
     "data": {
      "image/png": "[encoded data removed]",
      "text/plain": [
       "<Figure size 640x480 with 1 Axes>"
      ]
     },
     "metadata": {},
     "output_type": "display_data"
    },
    {
     "data": {
      "text/plain": [
       "<Figure size 640x480 with 0 Axes>"
      ]
     },
     "metadata": {},
     "output_type": "display_data"
    }
   ],
   "source": [
    "# Histogram of sepal length with set colour customisation and bin width\n",
    "plt.hist(sepal_length, bins=10, color='red', edgecolor='black')\n",
    "\n",
    "# Add axis labels\n",
    "plt.xlabel('Sepal Length (cm)')\n",
    "plt.ylabel('Frequency')\n",
    "\n",
    "# Add title\n",
    "plt.title('Sepal Length Distribution')\n",
    "\n",
    "# Show\n",
    "plt.show()\n",
    "\n",
    "# Save the histogram to a file\n",
    "plt.savefig(\"sepal_length_histogram.png\")\n"
   ]
  },
  {
   "cell_type": "markdown",
   "metadata": {},
   "source": [
    "### **Histogram displaying Petal Width:**"
   ]
  },
  {
   "cell_type": "code",
   "execution_count": 21,
   "metadata": {},
   "outputs": [
    {
     "data": {
      "image/png": "[encoded data removed]",
      "text/plain": [
       "<Figure size 640x480 with 1 Axes>"
      ]
     },
     "metadata": {},
     "output_type": "display_data"
    },
    {
     "data": {
      "text/plain": [
       "<Figure size 640x480 with 0 Axes>"
      ]
     },
     "metadata": {},
     "output_type": "display_data"
    }
   ],
   "source": [
    "# Histogram of petal width with set colour customisation and bin width\n",
    "plt.hist(petal_width, bins=10, color='green', edgecolor='black')\n",
    "\n",
    "# Add axis labels\n",
    "plt.xlabel('Petal Width (cm)')\n",
    "plt.ylabel('Frequency')\n",
    "\n",
    "# Add title\n",
    "plt.title('Petal Width Distribution')\n",
    "\n",
    "# Show\n",
    "plt.show()\n",
    "\n",
    "# Save the histogram to a file\n",
    "plt.savefig(\"petal_width_histogram.png\")"
   ]
  },
  {
   "cell_type": "markdown",
   "metadata": {},
   "source": [
    "### **Histogram displaying Petal Length:**"
   ]
  },
  {
   "cell_type": "code",
   "execution_count": 22,
   "metadata": {},
   "outputs": [
    {
     "data": {
      "image/png": "[encoded data removed]",
      "text/plain": [
       "<Figure size 640x480 with 1 Axes>"
      ]
     },
     "metadata": {},
     "output_type": "display_data"
    },
    {
     "data": {
      "text/plain": [
       "<Figure size 640x480 with 0 Axes>"
      ]
     },
     "metadata": {},
     "output_type": "display_data"
    }
   ],
   "source": [
    "# Histogram of petal length with set colour customisation and bin width\n",
    "plt.hist(petal_length, bins=10, color='yellow', edgecolor='black')\n",
    "\n",
    "# Add axis labels\n",
    "plt.xlabel('Petal Length (cm)')\n",
    "plt.ylabel('Frequency')\n",
    "\n",
    "# Add title\n",
    "plt.title('Petal Length Distribution')\n",
    "\n",
    "# Show\n",
    "plt.show()\n",
    "\n",
    "# Save the histogram to a file\n",
    "plt.savefig(\"petal_length_histogram.png\")"
   ]
  },
  {
   "cell_type": "code",
   "execution_count": null,
   "metadata": {},
   "outputs": [],
   "source": []
  }
 ],
 "metadata": {
  "kernelspec": {
   "display_name": "base",
   "language": "python",
   "name": "python3"
  },
  "language_info": {
   "codemirror_mode": {
    "name": "ipython",
    "version": 3
   },
   "file_extension": ".py",
   "mimetype": "text/x-python",
   "name": "python",
   "nbconvert_exporter": "python",
   "pygments_lexer": "ipython3",
   "version": "3.12.7"
  }
 },
 "nbformat": 4,
 "nbformat_minor": 2
}
